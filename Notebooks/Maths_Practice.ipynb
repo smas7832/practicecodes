{
  "cells": [
    {
      "cell_type": "code",
      "execution_count": null,
      "metadata": {
        "colab": {
          "base_uri": "https://localhost:8080/",
          "height": 78
        },
        "id": "rbHZ_58dIcyf",
        "outputId": "c2c04b4b-68e5-4d89-ece2-2a789b06c050"
      },
      "outputs": [],
      "source": [
        "from sympy import *\n",
        "A=Matrix([[1,2,36],[4,5,6],[7,8,9]])\n",
        "A"
      ]
    },
    {
      "cell_type": "code",
      "execution_count": null,
      "metadata": {
        "colab": {
          "base_uri": "https://localhost:8080/",
          "height": 37
        },
        "id": "zEVtNKr2JHg8",
        "outputId": "867d7d93-3a73-45af-b652-7ef0e7eab87d"
      },
      "outputs": [],
      "source": [
        "A.det()"
      ]
    },
    {
      "cell_type": "code",
      "execution_count": null,
      "metadata": {
        "colab": {
          "base_uri": "https://localhost:8080/",
          "height": 78
        },
        "id": "QW_UrLa8JNr7",
        "outputId": "48c1fe71-7c4d-42c6-d2fd-2ff991309f21"
      },
      "outputs": [],
      "source": [
        "A.inv()"
      ]
    },
    {
      "cell_type": "code",
      "execution_count": null,
      "metadata": {
        "colab": {
          "base_uri": "https://localhost:8080/",
          "height": 78
        },
        "id": "OuLo0q6-JRSd",
        "outputId": "04eed136-8fd6-4dbd-f79d-e0a10ee53a14"
      },
      "outputs": [],
      "source": [
        "A.col_del(0)\n",
        "A"
      ]
    },
    {
      "cell_type": "code",
      "execution_count": null,
      "metadata": {
        "colab": {
          "base_uri": "https://localhost:8080/",
          "height": 78
        },
        "id": "zDtKb2g1JYYc",
        "outputId": "96172cfc-d170-4ece-cd37-7b44ac35e007"
      },
      "outputs": [],
      "source": [
        "A.col_insert(1,Matrix([1,2,3]))\n",
        "A"
      ]
    },
    {
      "cell_type": "code",
      "execution_count": null,
      "metadata": {
        "colab": {
          "base_uri": "https://localhost:8080/",
          "height": 187
        },
        "id": "XB1Hz2yxJeBM",
        "outputId": "58c9f304-b566-4018-a303-c00c8eeddb89"
      },
      "outputs": [],
      "source": [
        "A=Matrix([[1,2,3],[4,5,6],[7,5,9]])\n",
        "B=Matrix([[1,10,3],[4,65,6],[7,5,9]])\n",
        "\n",
        "A.det\n"
      ]
    },
    {
      "cell_type": "code",
      "execution_count": null,
      "metadata": {
        "colab": {
          "base_uri": "https://localhost:8080/",
          "height": 187
        },
        "id": "CrOAZKLJL1Qt",
        "outputId": "6809b3b0-03db-4072-d47b-60753713a45a"
      },
      "outputs": [],
      "source": [
        "A.det"
      ]
    }
  ],
  "metadata": {
    "colab": {
      "provenance": []
    },
    "kernelspec": {
      "display_name": "Python 3",
      "name": "python3"
    },
    "language_info": {
      "codemirror_mode": {
        "name": "ipython",
        "version": 3
      },
      "file_extension": ".py",
      "mimetype": "text/x-python",
      "name": "python",
      "nbconvert_exporter": "python",
      "pygments_lexer": "ipython3",
      "version": "3.11.9"
    }
  },
  "nbformat": 4,
  "nbformat_minor": 0
}
